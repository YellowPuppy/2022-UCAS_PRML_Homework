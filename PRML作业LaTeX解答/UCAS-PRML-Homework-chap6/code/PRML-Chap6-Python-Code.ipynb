{
 "cells": [
  {
   "cell_type": "code",
   "execution_count": 21,
   "id": "e3fd8477",
   "metadata": {},
   "outputs": [
    {
     "name": "stdout",
     "output_type": "stream",
     "text": [
      "BGD的迭代次数为1500, theta: [2.86844779 4.56477862] , error: 6.994782\n",
      "运行时间为:  13.83662223815918 ms\n"
     ]
    }
   ],
   "source": [
    "# 批量梯度下降BGD\n",
    "# 拟合函数为：y = theta * x\n",
    "# 代价函数为：J = 1 / (2 * m) * ((theta * x) - y) * ((theta * x) - y).T;\n",
    "# 梯度迭代为: theta = theta - alpha / m * (x * (theta * x - y).T);\n",
    "import time\n",
    "import numpy as np\n",
    "# 1、多元线性回归的BGD程序\n",
    "def bgd_multi():\n",
    "    # 训练集，每个样本有2个分量\n",
    "    x = np.array([(1, 2), (2, 5), (5, 1), (4, 2)])\n",
    "    y = np.array([19, 26, 19, 20])\n",
    "    # 初始化\n",
    "    m, dim = x.shape\n",
    "    theta = np.ones(dim)  # 参数\n",
    "    alpha = 0.001  # 学习率\n",
    "    threshold = 0.0001  # 停止迭代的错误阈值\n",
    "    iterations = 1500  # 迭代次数\n",
    "    error = 0  # 初始错误为0\n",
    "    # 迭代开始\n",
    "    for i in range(iterations):\n",
    "        error = 1 / (2 * m) * np.dot((np.dot(x, theta) - y).T, (np.dot(x, theta) - y))\n",
    "        # 迭代停止\n",
    "        if abs(error) <= threshold:\n",
    "            break\n",
    "        theta -= alpha / m * (np.dot(x.T, (np.dot(x, theta) - y)))\n",
    "    print('BGD的迭代次数为%d,' % (i + 1), 'theta:', theta, ', error: %f' % error)\n",
    "if __name__ == '__main__':\n",
    "    start = time.time()\n",
    "    bgd_multi()\n",
    "    end = time.time()\n",
    "    print('运行时间为: ', (end - start) * 1000, 'ms')"
   ]
  },
  {
   "cell_type": "code",
   "execution_count": 15,
   "id": "d9288a4d",
   "metadata": {},
   "outputs": [
    {
     "name": "stdout",
     "output_type": "stream",
     "text": [
      "SGD的迭代次数为1500, theta: [2.93184515 4.47819925] , error: 7.016182\n",
      "运行时间为:  13.505935668945312 ms\n"
     ]
    }
   ],
   "source": [
    "# 随机梯度下降SGD\n",
    "import time\n",
    "import numpy as np\n",
    "# 2、多元线性回归的SGD程序\n",
    "def sgd():\n",
    "    # 训练集，每个样本有2个分量\n",
    "    x = np.array([(1, 2), (2, 5), (5, 1), (4, 2)])\n",
    "    y = np.array([19, 26, 19, 20])\n",
    "    # 初始化\n",
    "    m, dim = x.shape\n",
    "    theta = np.ones(dim)  # 参数\n",
    "    alpha = 0.001  # 学习率\n",
    "    threshold = 0.0001  # 停止迭代的错误阈值\n",
    "    iterations = 1500  # 迭代次数\n",
    "    error = 0  # 初始错误为0\n",
    "    # 迭代开始\n",
    "    for i in range(iterations):\n",
    "        error = 1 / (2 * m) * np.dot((np.dot(x, theta) - y).T, (np.dot(x, theta) - y))\n",
    "        # 迭代停止\n",
    "        if abs(error) <= threshold:\n",
    "            break\n",
    "        j = np.random.randint(0, m)\n",
    "        theta -= alpha * (x[j] * (np.dot(x[j], theta) - y[j]))\n",
    "    print('SGD的迭代次数为%d,' % (i + 1), 'theta:', theta, ', error: %f' % error)\n",
    "if __name__ == '__main__':\n",
    "    start = time.time()\n",
    "    sgd()\n",
    "    end = time.time()\n",
    "    print('运行时间为: ', (end - start) * 1000, 'ms')"
   ]
  },
  {
   "cell_type": "code",
   "execution_count": 22,
   "id": "820f71fd",
   "metadata": {
    "scrolled": true
   },
   "outputs": [
    {
     "data": {
      "text/plain": [
       "array([[0.40579081, 0.59420919],\n",
       "       [0.38369531, 0.61630469]])"
      ]
     },
     "execution_count": 22,
     "metadata": {},
     "output_type": "execute_result"
    }
   ],
   "source": [
    "import numpy as np  \n",
    "from sklearn.naive_bayes import MultinomialNB\n",
    "X = np.array([[1, 1], [1, 2], [1, 2], [1, 1], [1, 1], [2, 1], [2, 2], [2, 2],\n",
    "             [2, 3], [2, 3], [3, 3], [3, 2], [3, 2], [3, 3], [3, 3]])\n",
    "# S,M,L,N分别用数字1,2,3,4替代\n",
    "Y = np.array([-1, -1, 1, 1, -1, -1, -1, 1, 1, 1, 1, 1, 1, 1, -1])  \n",
    "clf = MultinomialNB(alpha = 1.0, fit_prior = True, class_prior = None)\n",
    "clf.fit(X, Y)   \n",
    "clf.predict_proba([[2, 1], [1, 4]]) #输出(2,S)和(1,N)划分到各个类别的概率值"
   ]
  },
  {
   "cell_type": "code",
   "execution_count": 23,
   "id": "c5ab5c17",
   "metadata": {},
   "outputs": [
    {
     "name": "stdout",
     "output_type": "stream",
     "text": [
      "[-0.91629073 -0.51082562]\n"
     ]
    }
   ],
   "source": [
    "print(clf.class_log_prior_)"
   ]
  }
 ],
 "metadata": {
  "kernelspec": {
   "display_name": "Python 3 (ipykernel)",
   "language": "python",
   "name": "python3"
  },
  "language_info": {
   "codemirror_mode": {
    "name": "ipython",
    "version": 3
   },
   "file_extension": ".py",
   "mimetype": "text/x-python",
   "name": "python",
   "nbconvert_exporter": "python",
   "pygments_lexer": "ipython3",
   "version": "3.8.13"
  }
 },
 "nbformat": 4,
 "nbformat_minor": 5
}
